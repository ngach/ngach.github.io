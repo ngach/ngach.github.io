{
 "cells": [
  {
   "cell_type": "code",
   "execution_count": 1,
   "id": "c117fe56",
   "metadata": {},
   "outputs": [],
   "source": [
    "import numpy as np\n",
    "import pandas as pd\n",
    "import matplotlib.pyplot as plt\n",
    "import seaborn as sns\n",
    "import warnings\n",
    "warnings.filterwarnings(\"ignore\")"
   ]
  },
  {
   "cell_type": "code",
   "execution_count": 2,
   "id": "bbbc850d",
   "metadata": {},
   "outputs": [
    {
     "data": {
      "text/html": [
       "<div>\n",
       "<style scoped>\n",
       "    .dataframe tbody tr th:only-of-type {\n",
       "        vertical-align: middle;\n",
       "    }\n",
       "\n",
       "    .dataframe tbody tr th {\n",
       "        vertical-align: top;\n",
       "    }\n",
       "\n",
       "    .dataframe thead th {\n",
       "        text-align: right;\n",
       "    }\n",
       "</style>\n",
       "<table border=\"1\" class=\"dataframe\">\n",
       "  <thead>\n",
       "    <tr style=\"text-align: right;\">\n",
       "      <th></th>\n",
       "      <th>ID</th>\n",
       "      <th>Noi_dung</th>\n",
       "      <th>Dia_chi</th>\n",
       "      <th>Gia</th>\n",
       "      <th>Nha_ve_sinh</th>\n",
       "      <th>So_phong</th>\n",
       "      <th>Huong</th>\n",
       "      <th>Chieu_dai</th>\n",
       "      <th>Rong</th>\n",
       "      <th>Giay_to</th>\n",
       "      <th>Cau_truc</th>\n",
       "      <th>Dien_tich</th>\n",
       "      <th>Dien_tich_su_dung</th>\n",
       "      <th>Hem_rong</th>\n",
       "      <th>Duong_mat_tien</th>\n",
       "      <th>Tien_ich</th>\n",
       "      <th>Duong</th>\n",
       "      <th>Phuong</th>\n",
       "      <th>Quan</th>\n",
       "    </tr>\n",
       "  </thead>\n",
       "  <tbody>\n",
       "    <tr>\n",
       "      <th>0</th>\n",
       "      <td>149065</td>\n",
       "      <td>Bán nhà 134.7m2 Tân Hiệp Hóc Môn. Cách Đỗ Văn ...</td>\n",
       "      <td>Đường ấp Thới Tây 2, Xã Tân Hiệp, Huyện Hóc Môn</td>\n",
       "      <td>3,7 tỷ 35,4 triệu/m²</td>\n",
       "      <td>4</td>\n",
       "      <td>3</td>\n",
       "      <td>Đ.Bắc</td>\n",
       "      <td>20.71</td>\n",
       "      <td>5.0</td>\n",
       "      <td>Sổ hồng</td>\n",
       "      <td>1 trệt + 1 lầu</td>\n",
       "      <td>104.5</td>\n",
       "      <td>134.7</td>\n",
       "      <td>5.0</td>\n",
       "      <td>0.0</td>\n",
       "      <td>Gần chợ, siêu thị Gần bệnh viện Gần công viên,...</td>\n",
       "      <td>Đường ấp Thới Tây 2</td>\n",
       "      <td>Xã Tân Hiệp</td>\n",
       "      <td>Huyện Hóc Môn</td>\n",
       "    </tr>\n",
       "  </tbody>\n",
       "</table>\n",
       "</div>"
      ],
      "text/plain": [
       "       ID                                           Noi_dung  \\\n",
       "0  149065  Bán nhà 134.7m2 Tân Hiệp Hóc Môn. Cách Đỗ Văn ...   \n",
       "\n",
       "                                           Dia_chi                   Gia  \\\n",
       "0  Đường ấp Thới Tây 2, Xã Tân Hiệp, Huyện Hóc Môn  3,7 tỷ 35,4 triệu/m²   \n",
       "\n",
       "  Nha_ve_sinh So_phong  Huong  Chieu_dai  Rong  Giay_to        Cau_truc  \\\n",
       "0           4        3  Đ.Bắc      20.71   5.0  Sổ hồng  1 trệt + 1 lầu   \n",
       "\n",
       "  Dien_tich Dien_tich_su_dung  Hem_rong  Duong_mat_tien  \\\n",
       "0     104.5             134.7       5.0             0.0   \n",
       "\n",
       "                                            Tien_ich                Duong  \\\n",
       "0  Gần chợ, siêu thị Gần bệnh viện Gần công viên,...  Đường ấp Thới Tây 2   \n",
       "\n",
       "         Phuong            Quan  \n",
       "0   Xã Tân Hiệp   Huyện Hóc Môn  "
      ]
     },
     "execution_count": 2,
     "metadata": {},
     "output_type": "execute_result"
    }
   ],
   "source": [
    "df = pd.read_excel('House_data.xlsx')#index_col\n",
    "df.head(1)"
   ]
  },
  {
   "cell_type": "code",
   "execution_count": 3,
   "id": "8b3b2ebe",
   "metadata": {},
   "outputs": [
    {
     "name": "stdout",
     "output_type": "stream",
     "text": [
      "<class 'pandas.core.frame.DataFrame'>\n",
      "RangeIndex: 4386 entries, 0 to 4385\n",
      "Data columns (total 19 columns):\n",
      " #   Column             Non-Null Count  Dtype  \n",
      "---  ------             --------------  -----  \n",
      " 0   ID                 4386 non-null   int64  \n",
      " 1   Noi_dung           4386 non-null   object \n",
      " 2   Dia_chi            4386 non-null   object \n",
      " 3   Gia                4386 non-null   object \n",
      " 4   Nha_ve_sinh        4386 non-null   object \n",
      " 5   So_phong           4386 non-null   object \n",
      " 6   Huong              4386 non-null   object \n",
      " 7   Chieu_dai          4386 non-null   float64\n",
      " 8   Rong               4386 non-null   float64\n",
      " 9   Giay_to            4386 non-null   object \n",
      " 10  Cau_truc           4386 non-null   object \n",
      " 11  Dien_tich          4386 non-null   object \n",
      " 12  Dien_tich_su_dung  4386 non-null   object \n",
      " 13  Hem_rong           4386 non-null   float64\n",
      " 14  Duong_mat_tien     4386 non-null   float64\n",
      " 15  Tien_ich           3551 non-null   object \n",
      " 16  Duong              4386 non-null   object \n",
      " 17  Phuong             4386 non-null   object \n",
      " 18  Quan               4386 non-null   object \n",
      "dtypes: float64(4), int64(1), object(14)\n",
      "memory usage: 651.2+ KB\n"
     ]
    }
   ],
   "source": [
    "df.info()"
   ]
  },
  {
   "cell_type": "code",
   "execution_count": 4,
   "metadata": {},
   "outputs": [],
   "source": [
    "df.drop(columns=['Noi_dung','Dia_chi','ID'],inplace=True)"
   ]
  },
  {
   "cell_type": "markdown",
   "metadata": {},
   "source": [
    "### 1.Xử Lý null và giá trị không hợp lệ của các biến continuous\n"
   ]
  },
  {
   "cell_type": "code",
   "execution_count": 5,
   "metadata": {},
   "outputs": [
    {
     "name": "stdout",
     "output_type": "stream",
     "text": [
      "Series([], Name: Dien_tich, dtype: object)\n",
      "Series([], Name: Dien_tich_su_dung, dtype: object)\n"
     ]
    }
   ],
   "source": [
    "for i in ['Dien_tich','Dien_tich_su_dung']:\n",
    "    lst=df[i][df[i].str.contains('\\d+\\.\\d{3}\\.')==True].str.split('\\.',expand=True).astype(str)####\n",
    "    lst['ghep']=(lst[0]+lst[1]+'.'+lst[2]).astype(float)\n",
    "    df[i][df[i].str.contains('\\d+\\.\\d{3}\\.')==True]=lst['ghep']\n",
    "    print(df[i][df[i].str.contains('\\d+\\.\\d{3}\\.')==True])\n",
    "df[['Dien_tich','Dien_tich_su_dung']]=df[['Dien_tich','Dien_tich_su_dung']].astype(float)"
   ]
  },
  {
   "cell_type": "code",
   "execution_count": 6,
   "metadata": {},
   "outputs": [],
   "source": [
    "df['Gia_ty']=df['Gia'].str.extract('(.+) tỷ \\d+')\n",
    "df['Gia_trieu_đong']=df['Gia_ty'].str.replace(',','.').astype(float)*1000### chuyển tỷ sang triẹu\n",
    "df['Gia']=df['Gia'].str.replace(',','.')\n",
    "df['Don_gia_trieu']=df['Gia'].str.extract('[Đã bán|triệu] (\\d+\\.?\\d+) triệu/m²').astype(float)\n",
    "df.loc[1152,'Don_gia_trieu']=1100### TH ngoại lệ 1,1 tỷ/mét vuông\n",
    "ind_gia=df.Gia_trieu_đong[df.Gia_trieu_đong.isnull()==True].index\n",
    "df.loc[ind_gia,'Gia_trieu_đong']=df.loc[ind_gia,'Don_gia_trieu']*df.loc[ind_gia,'Dien_tich']\n",
    "df = df.dropna(axis=0, subset=['Gia_trieu_đong'])"
   ]
  },
  {
   "cell_type": "code",
   "execution_count": 7,
   "metadata": {},
   "outputs": [
    {
     "name": "stdout",
     "output_type": "stream",
     "text": [
      "['Đường ấp Thới Tây 2' 'Đường Hậu Giang' 'Đường Nguyễn Thượng Hiền' ...\n",
      " 'Đường Dân Thắng 1' 'Đường ấp 3' 'Đường TRẦN VĂN GIÀU']\n"
     ]
    },
    {
     "data": {
      "text/plain": [
       "1044"
      ]
     },
     "execution_count": 7,
     "metadata": {},
     "output_type": "execute_result"
    }
   ],
   "source": [
    "print(df.Duong.unique())# nên bỏ feature này\n",
    "len(df.Duong.unique())"
   ]
  },
  {
   "cell_type": "code",
   "execution_count": 8,
   "metadata": {},
   "outputs": [],
   "source": [
    "df.drop(['Duong','Gia'],axis=1,inplace=True)"
   ]
  },
  {
   "cell_type": "code",
   "execution_count": 9,
   "metadata": {},
   "outputs": [
    {
     "data": {
      "text/plain": [
       "0                                  1 trệt + 1 lầu\n",
       "1                                          1 trệt\n",
       "2                                1 trệt, 1 lửng  \n",
       "3                                1 trệt + 1 lầu  \n",
       "4         1 trệt, 1 lửng, 1 tầng thượng + 2 lầu  \n",
       "                          ...                    \n",
       "4381                             1 trệt + 1 lầu  \n",
       "4382                             1 trệt + 2 lầu  \n",
       "4383              1 trệt, 1 tầng thượng + 2 lầu  \n",
       "4384                               1 trệt + 1 lầu\n",
       "4385                   1 trệt, 1 lửng, 1 áp mái  \n",
       "Name: Cau_truc, Length: 4385, dtype: object"
      ]
     },
     "execution_count": 9,
     "metadata": {},
     "output_type": "execute_result"
    }
   ],
   "source": [
    "df.Cau_truc"
   ]
  },
  {
   "cell_type": "code",
   "execution_count": 10,
   "metadata": {},
   "outputs": [],
   "source": [
    "df['C2']=df['Cau_truc'].str.extract('(\\d+) lầu')\n",
    "df['C2'].fillna(0.1,inplace=True)\n",
    "df['C2']=df['C2'].astype(int)"
   ]
  },
  {
   "cell_type": "code",
   "execution_count": 11,
   "metadata": {},
   "outputs": [],
   "source": [
    "# Xử lý ván đề Hem_rong=0 tức là có mặt đường: tăng hệ só cho biến mặt đường roi thay  thế các giá trị mặt đường =0 bằng biến hẻm rộng\n",
    "df['Duong_mat_tien']=df['Duong_mat_tien']*1.3\n",
    "ind=df[df['Duong_mat_tien']==0].index\n",
    "df.loc[ind,'Duong_mat_tien']=df.loc[ind,'Hem_rong']\n",
    "df.drop(['Hem_rong'],axis=1,inplace=True)"
   ]
  },
  {
   "cell_type": "code",
   "execution_count": 12,
   "metadata": {},
   "outputs": [
    {
     "data": {
      "text/plain": [
       "array([3, '--', '  --  ', 2, 5, 4, 15, 6, 8, 11, 12, 1, 9, 13, 32, 20, 16,\n",
       "       7, 10, 25, 14, 42, 44, 19, 28, 18, 26, 24, 17, 23, 40, 21, 30, 73,\n",
       "       45, 84, 38, 22, 60, 29], dtype=object)"
      ]
     },
     "execution_count": 12,
     "metadata": {},
     "output_type": "execute_result"
    }
   ],
   "source": [
    "df.So_phong.unique()####"
   ]
  },
  {
   "cell_type": "code",
   "execution_count": 13,
   "metadata": {},
   "outputs": [
    {
     "data": {
      "text/plain": [
       "array([4, 1, 2, 5, 3, 15, 6, 11, 12, 9, 7, 13, 32, 20, 10, 8, 25, '--',\n",
       "       14, 42, 16, 44, 17, 19, 28, '  --  ', 18, 27, 29, 24, 23, 40, 21,\n",
       "       30, 33, 73, 45, 85, 38, 26, 22, 60, 36], dtype=object)"
      ]
     },
     "execution_count": 13,
     "metadata": {},
     "output_type": "execute_result"
    }
   ],
   "source": [
    "df.Nha_ve_sinh.unique()####"
   ]
  },
  {
   "cell_type": "code",
   "execution_count": 14,
   "metadata": {},
   "outputs": [],
   "source": [
    "df['So_phong'][df['So_phong'] =='  --  ']=np.nan\n",
    "df['So_phong'][df['So_phong'] =='--']=np.nan\n",
    "df['Nha_ve_sinh'][df['Nha_ve_sinh'] =='--']=np.nan\n",
    "df['Nha_ve_sinh'][df['Nha_ve_sinh'] =='  --  ']=np.nan\n",
    "df[['So_phong','Nha_ve_sinh']]=df[['So_phong','Nha_ve_sinh']].astype(float)\n",
    "df['So_phong'].fillna(round(df['So_phong'][df['So_phong'].notnull()].median(),0),inplace=True)#### vòng lặp ko thể thay đổi\n",
    "df['Nha_ve_sinh'].fillna(round(df['Nha_ve_sinh'][df['Nha_ve_sinh'].notnull()].median(),0),inplace=True)"
   ]
  },
  {
   "cell_type": "code",
   "execution_count": 15,
   "metadata": {},
   "outputs": [
    {
     "data": {
      "text/plain": [
       "array(['Đ.Bắc', 'Tây', 'T.Nam', 'Bắc', 'Đ.Nam', 'T.Bắc', 'Đông', 'Nam',\n",
       "       'Không xác định'], dtype=object)"
      ]
     },
     "execution_count": 15,
     "metadata": {},
     "output_type": "execute_result"
    }
   ],
   "source": [
    "df.Huong.unique()"
   ]
  },
  {
   "cell_type": "code",
   "execution_count": 16,
   "id": "988c09b1",
   "metadata": {},
   "outputs": [
    {
     "data": {
      "text/plain": [
       "array(['Sổ hồng', 'Sổ đỏ', 'Giấy chứng nhận phường quận', 'Khác'],\n",
       "      dtype=object)"
      ]
     },
     "execution_count": 16,
     "metadata": {},
     "output_type": "execute_result"
    }
   ],
   "source": [
    "df.Giay_to.unique()"
   ]
  },
  {
   "cell_type": "code",
   "execution_count": 17,
   "metadata": {},
   "outputs": [],
   "source": [
    "df['Giayto']=df['Giay_to'].apply(lambda x:0 if x=='Sổ hồng' else 1 if x=='Sổ đỏ' else 2 if x=='Giấy chứng nhận phường quận' else 3)"
   ]
  },
  {
   "cell_type": "code",
   "execution_count": 18,
   "metadata": {},
   "outputs": [],
   "source": [
    "df[['Giay_to','Quan','Huong']]=df[['Giay_to','Quan','Huong']].astype('category')"
   ]
  },
  {
   "cell_type": "code",
   "execution_count": 19,
   "metadata": {},
   "outputs": [
    {
     "name": "stdout",
     "output_type": "stream",
     "text": [
      "<class 'pandas.core.frame.DataFrame'>\n",
      "Int64Index: 4385 entries, 0 to 4385\n",
      "Data columns (total 18 columns):\n",
      " #   Column             Non-Null Count  Dtype   \n",
      "---  ------             --------------  -----   \n",
      " 0   Nha_ve_sinh        4385 non-null   float64 \n",
      " 1   So_phong           4385 non-null   float64 \n",
      " 2   Huong              4385 non-null   category\n",
      " 3   Chieu_dai          4385 non-null   float64 \n",
      " 4   Rong               4385 non-null   float64 \n",
      " 5   Giay_to            4385 non-null   category\n",
      " 6   Cau_truc           4385 non-null   object  \n",
      " 7   Dien_tich          4385 non-null   float64 \n",
      " 8   Dien_tich_su_dung  4385 non-null   float64 \n",
      " 9   Duong_mat_tien     4385 non-null   float64 \n",
      " 10  Tien_ich           3550 non-null   object  \n",
      " 11  Phuong             4385 non-null   object  \n",
      " 12  Quan               4385 non-null   category\n",
      " 13  Gia_ty             4301 non-null   object  \n",
      " 14  Gia_trieu_đong     4385 non-null   float64 \n",
      " 15  Don_gia_trieu      85 non-null     float64 \n",
      " 16  C2                 4385 non-null   int32   \n",
      " 17  Giayto             4385 non-null   int64   \n",
      "dtypes: category(3), float64(9), int32(1), int64(1), object(4)\n",
      "memory usage: 674.2+ KB\n"
     ]
    }
   ],
   "source": [
    "df.info()"
   ]
  },
  {
   "cell_type": "code",
   "execution_count": 20,
   "metadata": {},
   "outputs": [
    {
     "name": "stdout",
     "output_type": "stream",
     "text": [
      "[' Huyện Hóc Môn', ' Quận 6', ' Quận Gò Vấp', ' Huyện Nhà Bè', ' Quận 11', ..., ' Quận 12', ' Quận 5', ' Quận Tân Phú', ' Huyện Bình Chánh', ' Quận 4']\n",
      "Length: 22\n",
      "Categories (22, object): [' Huyện Hóc Môn', ' Quận 6', ' Quận Gò Vấp', ' Huyện Nhà Bè', ..., ' Quận 5', ' Quận Tân Phú', ' Huyện Bình Chánh', ' Quận 4']\n"
     ]
    },
    {
     "data": {
      "text/plain": [
       "22"
      ]
     },
     "execution_count": 20,
     "metadata": {},
     "output_type": "execute_result"
    }
   ],
   "source": [
    "print(df.Quan.unique())\n",
    "len(df.Quan.unique())"
   ]
  },
  {
   "cell_type": "code",
   "execution_count": 21,
   "metadata": {},
   "outputs": [
    {
     "data": {
      "text/plain": [
       "0    Gần chợ, siêu thị Gần bệnh viện Gần công viên,...\n",
       "1    Gần chợ, siêu thị Gần công viên, trung tâm Di ...\n",
       "2     Gần chợ, siêu thị Gần công viên, trung tâm Gầ...\n",
       "3     Gần chợ, siêu thị Gần bệnh viện Gần công viên...\n",
       "4                                                  NaN\n",
       "Name: Tien_ich, dtype: object"
      ]
     },
     "execution_count": 21,
     "metadata": {},
     "output_type": "execute_result"
    }
   ],
   "source": [
    "df.Tien_ich.head()\n"
   ]
  },
  {
   "cell_type": "code",
   "execution_count": 22,
   "metadata": {},
   "outputs": [],
   "source": [
    "# Gần chợ, siêu thị\n",
    "# Gần bệnh viện\n",
    "# Gần công viên, trung tâm\n",
    "# Gần trường học\n",
    "# Di chuyển thuận tiện ra trung tâm\n",
    "# Sân để xe rộng rãi\n",
    "# Thiết kế thông thoáng\n",
    "# Cần bán gấp\n",
    "# Gần mặt tiền đường\n",
    "# Hẻm thông\n",
    "# 2 Mặt đường chính\n",
    "# Khu vực an ninh\n",
    "# Nở hậu\n",
    "# 2 Mặt hẻm"
   ]
  },
  {
   "cell_type": "code",
   "execution_count": 23,
   "metadata": {},
   "outputs": [],
   "source": [
    "df[['chợ','bv','cv','tt','th','sân','thietke','đg','gấp','hẻm','đgchinh','anninh','nohau','mathem']]=0\n",
    "df.loc[(df['Tien_ich'].str.contains('Gần chợ, siêu thị'))==True,'chợ']=1\n",
    "df.loc[(df['Tien_ich'].str.contains('Gần bệnh viện'))==True,'bv']=1\n",
    "df.loc[(df['Tien_ich'].str.contains('Gần công viên, trung tâm'))==True,'cv']=1\n",
    "df.loc[(df['Tien_ich'].str.contains('Gần trường học'))==True,'th']=1\n",
    "df.loc[(df['Tien_ich'].str.contains('Di chuyển thuận tiện ra trung tâm'))==True,'tt']=1\n",
    "df.loc[(df['Tien_ich'].str.contains('Sân để xe rộng rãi'))==True,'sân']=1\n",
    "df.loc[(df['Tien_ich'].str.contains('Thiết kế thông thoáng'))==True,'thietke']=1\n",
    "df.loc[(df['Tien_ich'].str.contains('Gần mặt tiền đường'))==True,'đg']=1\n",
    "df.loc[(df['Tien_ich'].str.contains('Cần bán gấp'))==True,'gấp']=1\n",
    "df.loc[(df['Tien_ich'].str.contains('Hẻm thông'))==True,'hẻm']=1\n",
    "df.loc[(df['Tien_ich'].str.contains('2 Mặt đường chính'))==True,'đgchinh']=1\n",
    "df.loc[(df['Tien_ich'].str.contains('Khu vực an ninh'))==True,'anninh']=1\n",
    "df.loc[(df['Tien_ich'].str.contains('Nở hậu'))==True,'nohau']=1\n",
    "df.loc[(df['Tien_ich'].str.contains('2 Mặt hẻm'))==True,'mathem']=1\n",
    "df['Tien_ich']=df[['chợ','bv','cv','tt','th','sân','thietke','đg','gấp','hẻm','đgchinh','anninh','nohau','mathem']].sum(axis=1)\n",
    "df.drop(['chợ','bv','cv','tt','th','sân','thietke','đg','gấp','hẻm','đgchinh','anninh','nohau','mathem'],axis=1,inplace=True)"
   ]
  },
  {
   "cell_type": "code",
   "execution_count": 24,
   "metadata": {},
   "outputs": [
    {
     "data": {
      "text/plain": [
       "Nha_ve_sinh          0.453902\n",
       "So_phong             0.453289\n",
       "Chieu_dai            0.501745\n",
       "Rong                 0.409066\n",
       "Dien_tich            0.563518\n",
       "Dien_tich_su_dung    0.544333\n",
       "Duong_mat_tien       0.360414\n",
       "Tien_ich             0.013817\n",
       "Gia_trieu_đong       1.000000\n",
       "Don_gia_trieu        0.857176\n",
       "C2                   0.327730\n",
       "Giayto               0.008043\n",
       "Name: Gia_trieu_đong, dtype: float64"
      ]
     },
     "execution_count": 24,
     "metadata": {},
     "output_type": "execute_result"
    }
   ],
   "source": [
    "df.corr()['Gia_trieu_đong']# giấy tờ, đg mặt tiền,C2,So_phong là có corr cao nhất  "
   ]
  },
  {
   "cell_type": "code",
   "execution_count": 25,
   "metadata": {},
   "outputs": [
    {
     "data": {
      "text/html": [
       "<div>\n",
       "<style scoped>\n",
       "    .dataframe tbody tr th:only-of-type {\n",
       "        vertical-align: middle;\n",
       "    }\n",
       "\n",
       "    .dataframe tbody tr th {\n",
       "        vertical-align: top;\n",
       "    }\n",
       "\n",
       "    .dataframe thead th {\n",
       "        text-align: right;\n",
       "    }\n",
       "</style>\n",
       "<table border=\"1\" class=\"dataframe\">\n",
       "  <thead>\n",
       "    <tr style=\"text-align: right;\">\n",
       "      <th></th>\n",
       "      <th>sum_sq</th>\n",
       "      <th>df</th>\n",
       "      <th>F</th>\n",
       "      <th>PR(&gt;F)</th>\n",
       "    </tr>\n",
       "  </thead>\n",
       "  <tbody>\n",
       "    <tr>\n",
       "      <th>C(Huong)</th>\n",
       "      <td>3.634469e+08</td>\n",
       "      <td>8.0</td>\n",
       "      <td>0.767169</td>\n",
       "      <td>6.318606e-01</td>\n",
       "    </tr>\n",
       "    <tr>\n",
       "      <th>C(Giay_to)</th>\n",
       "      <td>4.456605e+08</td>\n",
       "      <td>3.0</td>\n",
       "      <td>2.508550</td>\n",
       "      <td>5.704640e-02</td>\n",
       "    </tr>\n",
       "    <tr>\n",
       "      <th>C(Quan)</th>\n",
       "      <td>2.842792e+10</td>\n",
       "      <td>21.0</td>\n",
       "      <td>22.859449</td>\n",
       "      <td>1.866953e-83</td>\n",
       "    </tr>\n",
       "    <tr>\n",
       "      <th>Residual</th>\n",
       "      <td>2.577205e+11</td>\n",
       "      <td>4352.0</td>\n",
       "      <td>NaN</td>\n",
       "      <td>NaN</td>\n",
       "    </tr>\n",
       "  </tbody>\n",
       "</table>\n",
       "</div>"
      ],
      "text/plain": [
       "                  sum_sq      df          F        PR(>F)\n",
       "C(Huong)    3.634469e+08     8.0   0.767169  6.318606e-01\n",
       "C(Giay_to)  4.456605e+08     3.0   2.508550  5.704640e-02\n",
       "C(Quan)     2.842792e+10    21.0  22.859449  1.866953e-83\n",
       "Residual    2.577205e+11  4352.0        NaN           NaN"
      ]
     },
     "execution_count": 25,
     "metadata": {},
     "output_type": "execute_result"
    }
   ],
   "source": [
    "import statsmodels.api as sm### lẽ ra phải làm cái này trc khi preprocess\n",
    "from statsmodels.formula.api import ols\n",
    "import scipy.stats       as stats\n",
    "bieuthuc = 'Gia_trieu_đong ~ C(Huong) + C(Giay_to) + C(Quan)'\n",
    "model = ols(bieuthuc, data=df).fit()\n",
    "anova_table = sm.stats.anova_lm(model, typ=2)\n",
    "anova_table"
   ]
  },
  {
   "cell_type": "markdown",
   "metadata": {},
   "source": [
    "### Nhận xét: lấy độ tin cậy là 0.95 thì trong các biến category, sự khác biệt của biến Quan có ý nghĩa thống kê với biến Giá=> tạo dummy cho biến Quan"
   ]
  },
  {
   "cell_type": "code",
   "execution_count": 26,
   "metadata": {},
   "outputs": [],
   "source": [
    "df_new = pd.get_dummies(data = df, columns=['Quan'], prefix='Dum')###"
   ]
  },
  {
   "cell_type": "code",
   "execution_count": 27,
   "metadata": {},
   "outputs": [
    {
     "data": {
      "text/plain": [
       "Dum_ Quận 8             -0.137362\n",
       "Dum_ Huyện Nhà Bè       -0.100094\n",
       "Dum_ Quận 12            -0.089488\n",
       "Dum_ Quận Gò Vấp        -0.069461\n",
       "Dum_ Quận Bình Tân      -0.060363\n",
       "Dum_ Huyện Hóc Môn      -0.058408\n",
       "Dum_ Quận 4             -0.049160\n",
       "Dum_ Huyện Bình Chánh   -0.022890\n",
       "Dum_ Quận Tân Phú       -0.004658\n",
       "Dum_ Quận Thủ Đức        0.001443\n",
       "Giayto                   0.008043\n",
       "Dum_ Quận 9              0.008825\n",
       "Dum_ Quận Bình Thạnh     0.010477\n",
       "Dum_ Quận 7              0.012318\n",
       "Tien_ich                 0.013817\n",
       "Dum_ Quận 11             0.029713\n",
       "Dum_ Quận Tân Bình       0.041385\n",
       "Dum_ Quận 5              0.045165\n",
       "Dum_ Quận Phú Nhuận      0.062104\n",
       "Dum_ Quận 6              0.066425\n",
       "Dum_ Quận 2              0.090395\n",
       "Dum_ Quận 10             0.090999\n",
       "Dum_ Quận 1              0.099200\n",
       "Dum_ Quận 3              0.115087\n",
       "C2                       0.327730\n",
       "Duong_mat_tien           0.360414\n",
       "Rong                     0.409066\n",
       "So_phong                 0.453289\n",
       "Nha_ve_sinh              0.453902\n",
       "Chieu_dai                0.501745\n",
       "Dien_tich_su_dung        0.544333\n",
       "Dien_tich                0.563518\n",
       "Don_gia_trieu            0.857176\n",
       "Gia_trieu_đong           1.000000\n",
       "Name: Gia_trieu_đong, dtype: float64"
      ]
     },
     "execution_count": 27,
     "metadata": {},
     "output_type": "execute_result"
    }
   ],
   "source": [
    "df_new.corr()['Gia_trieu_đong'].sort_values()"
   ]
  },
  {
   "cell_type": "markdown",
   "metadata": {},
   "source": [
    "## Kết hợp Visualize phân tích đơn biến và đa biến\n",
    "## Xem đơn biến:"
   ]
  },
  {
   "cell_type": "code",
   "execution_count": 28,
   "metadata": {},
   "outputs": [
    {
     "data": {
      "image/png": "[encoded data removed]",
      "text/plain": [
       "<Figure size 504x216 with 2 Axes>"
      ]
     },
     "metadata": {
      "needs_background": "light"
     },
     "output_type": "display_data"
    },
    {
     "data": {
      "image/png": "[encoded data removed]",
      "text/plain": [
       "<Figure size 504x216 with 2 Axes>"
      ]
     },
     "metadata": {
      "needs_background": "light"
     },
     "output_type": "display_data"
    },
    {
     "data": {
      "image/png": "[encoded data removed]",
      "text/plain": [
       "<Figure size 504x216 with 2 Axes>"
      ]
     },
     "metadata": {
      "needs_background": "light"
     },
     "output_type": "display_data"
    },
    {
     "data": {
      "image/png": "[encoded data removed]",
      "text/plain": [
       "<Figure size 504x216 with 2 Axes>"
      ]
     },
     "metadata": {
      "needs_background": "light"
     },
     "output_type": "display_data"
    },
    {
     "data": {
      "image/png": "[encoded data removed]",
      "text/plain": [
       "<Figure size 504x216 with 2 Axes>"
      ]
     },
     "metadata": {
      "needs_background": "light"
     },
     "output_type": "display_data"
    },
    {
     "data": {
      "image/png": "[encoded data removed]",
      "text/plain": [
       "<Figure size 504x216 with 2 Axes>"
      ]
     },
     "metadata": {
      "needs_background": "light"
     },
     "output_type": "display_data"
    }
   ],
   "source": [
    "features=['Nha_ve_sinh','So_phong','Dien_tich','Duong_mat_tien','C2','Gia_trieu_đong']\n",
    "for i in features:\n",
    "    plt.figure(figsize=(7,3))\n",
    "    plt.subplot(1,2,1)\n",
    "    sns.boxplot(df[i])\n",
    "    plt.subplot(1,2,2)\n",
    "    sns.distplot(df[i])\n",
    "    plt.tight_layout()\n",
    "    plt.show()"
   ]
  },
  {
   "cell_type": "markdown",
   "metadata": {},
   "source": [
    "## Nhận xét: tất cả các biến định lượng, kể cả biến phụ thuộc đều ko phấn phối chuẩn và có rất nhiều outliers"
   ]
  },
  {
   "cell_type": "markdown",
   "metadata": {},
   "source": [
    "## Xem đa biến:"
   ]
  },
  {
   "cell_type": "code",
   "execution_count": 29,
   "metadata": {},
   "outputs": [
    {
     "data": {
      "image/png": "[encoded data removed]",
      "text/plain": [
       "<Figure size 432x288 with 1 Axes>"
      ]
     },
     "metadata": {
      "needs_background": "light"
     },
     "output_type": "display_data"
    },
    {
     "data": {
      "image/png": "[encoded data removed]",
      "text/plain": [
       "<Figure size 432x288 with 1 Axes>"
      ]
     },
     "metadata": {
      "needs_background": "light"
     },
     "output_type": "display_data"
    },
    {
     "data": {
      "image/png": "[encoded data removed]",
      "text/plain": [
       "<Figure size 432x288 with 1 Axes>"
      ]
     },
     "metadata": {
      "needs_background": "light"
     },
     "output_type": "display_data"
    },
    {
     "data": {
      "image/png": "[encoded data removed]",
      "text/plain": [
       "<Figure size 432x288 with 1 Axes>"
      ]
     },
     "metadata": {
      "needs_background": "light"
     },
     "output_type": "display_data"
    },
    {
     "data": {
      "image/png": "[encoded data removed]",
      "text/plain": [
       "<Figure size 432x288 with 1 Axes>"
      ]
     },
     "metadata": {
      "needs_background": "light"
     },
     "output_type": "display_data"
    }
   ],
   "source": [
    "for i in features[0:-1]:\n",
    "    sns.regplot(df[i],df['Gia_trieu_đong'])\n",
    "    plt.show()"
   ]
  },
  {
   "cell_type": "code",
   "execution_count": 30,
   "metadata": {},
   "outputs": [],
   "source": [
    "X = df_new[['So_phong', 'Dien_tich', 'Duong_mat_tien','C2','Dum_ Huyện Bình Chánh', 'Dum_ Huyện Hóc Môn', 'Dum_ Huyện Nhà Bè',\n",
    "       'Dum_ Quận 1', 'Dum_ Quận 10', 'Dum_ Quận 11', 'Dum_ Quận 12',\n",
    "       'Dum_ Quận 2', 'Dum_ Quận 3', 'Dum_ Quận 4', 'Dum_ Quận 5',\n",
    "       'Dum_ Quận 6', 'Dum_ Quận 7', 'Dum_ Quận 8',\n",
    "       'Dum_ Quận Bình Thạnh', 'Dum_ Quận Bình Tân', 'Dum_ Quận Gò Vấp',\n",
    "       'Dum_ Quận Phú Nhuận', 'Dum_ Quận Tân Bình']] # bỏ 'Dum_ Quận Tân Phú', 'Dum_ Quận Thủ Đức', 'Dum_ Quận 9' vì corr chưa lên được 0.01\n",
    "y = df['Gia_trieu_đong']"
   ]
  },
  {
   "cell_type": "code",
   "execution_count": 31,
   "metadata": {},
   "outputs": [],
   "source": [
    "from sklearn.model_selection import train_test_split   \n",
    "from sklearn.preprocessing import RobustScaler\n",
    "from sklearn.preprocessing import PolynomialFeatures\n",
    "from sklearn.linear_model import LinearRegression\n",
    "from sklearn.pipeline import Pipeline"
   ]
  },
  {
   "cell_type": "code",
   "execution_count": 32,
   "metadata": {},
   "outputs": [
    {
     "name": "stdout",
     "output_type": "stream",
     "text": [
      "The train R-squared: 0.7916004312683153\n",
      "The test R-squared: 0.7857605820163363\n",
      "RMSE trên train và test lần lượt là:  2895.834090297863 3477.785878419632\n"
     ]
    }
   ],
   "source": [
    "my_steps = [('scale', RobustScaler()),\n",
    "            ('polynomial', PolynomialFeatures(degree=2)),\n",
    "           ('model', LinearRegression())]\n",
    "pipe = Pipeline(my_steps)\n",
    "X_train, X_test, y_train, y_test = train_test_split(X,y, test_size = 0.2,random_state=0)\n",
    "id_lux=y_train[y_train>60000].index\n",
    "X_train.drop(index=id_lux,axis=0,inplace=True)\n",
    "y_train.drop(index=id_lux,axis=0,inplace=True)\n",
    "\n",
    "id_phong=X_train[X_train.So_phong>40].index\n",
    "X_train.drop(index=id_phong,axis=0,inplace=True)\n",
    "y_train.drop(index=id_phong,axis=0,inplace=True)\n",
    "\n",
    "id_s=X_train[X_train.Dien_tich>400].index\n",
    "X_train.drop(index=id_s,axis=0,inplace=True)\n",
    "y_train.drop(index=id_s,axis=0,inplace=True)\n",
    "\n",
    "id_t=X_train[X_train.C2>5].index\n",
    "X_train.drop(index=id_t,axis=0,inplace=True)\n",
    "y_train.drop(index=id_t,axis=0,inplace=True)\n",
    "\n",
    "id_mt=X_train[X_train.Duong_mat_tien>25].index\n",
    "X_train.drop(index=id_mt,axis=0,inplace=True)\n",
    "y_train.drop(index=id_mt,axis=0,inplace=True)\n",
    "\n",
    "pipe.fit(X_train, y_train)\n",
    "yhat_train = pipe.predict(X_train)\n",
    "yhat_test = pipe.predict(X_test)\n",
    "print('The train R-squared:', pipe.score(X_train, y_train))\n",
    "print('The test R-squared:', pipe.score(X_test, y_test))\n",
    "a=np.sqrt(((yhat_train - y_train) ** 2).mean())\n",
    "b=np.sqrt(((yhat_test - y_test) ** 2).mean())\n",
    "print('RMSE trên train và test lần lượt là: ',a,b)"
   ]
  },
  {
   "cell_type": "code",
   "execution_count": 33,
   "metadata": {},
   "outputs": [],
   "source": [
    "from sklearn.tree import DecisionTreeRegressor\n",
    "from sklearn.ensemble import RandomForestRegressor\n",
    "from sklearn.svm import SVR\n",
    "import xgboost as xgb\n",
    "import datetime\n",
    "from sklearn.neighbors import KNeighborsRegressor"
   ]
  },
  {
   "cell_type": "markdown",
   "metadata": {},
   "source": [
    "### Thử thêm các loại model khác xem có cải thiện lên ko"
   ]
  },
  {
   "cell_type": "code",
   "execution_count": 34,
   "metadata": {},
   "outputs": [],
   "source": [
    "models = [DecisionTreeRegressor(),\n",
    "    RandomForestRegressor(),\n",
    "    KNeighborsRegressor(),\n",
    "    xgb.XGBRegressor(random_state=0),\n",
    "    SVR(kernel='rbf')\n",
    "]\n",
    "CV = 10\n",
    "entries = []\n",
    "for model in models:\n",
    "    time_scores=[]\n",
    "    scores_train = []\n",
    "    scores_test = []\n",
    "    rmse_train=[]\n",
    "    rmse_test=[]\n",
    "    for j in range(CV):\n",
    "        t1=datetime.datetime.now()\n",
    "        model.fit(X_train,y_train)\n",
    "        t2=datetime.datetime.now()\n",
    "        model_name = model.__class__.__name__      \n",
    "        time_scores.append(round((t2-t1).microseconds/1000,1)) \n",
    "        s_train = model.score(X_train,y_train)\n",
    "        s_test =  model.score(X_test,y_test)\n",
    "        scores_train.append(s_train)\n",
    "        scores_test.append(s_test)          \n",
    "        y_pred = model.predict(X_train)\n",
    "        a=np.sqrt(((y_pred - y_train) ** 2).mean())\n",
    "        rmse_train.append(a)\n",
    "        y_predtest = model.predict(X_test)\n",
    "        b=np.sqrt(((y_predtest - y_test) ** 2).mean())\n",
    "        rmse_test.append(b)\n",
    "    entries.append([model_name,np.array(time_scores).mean(),np.array(rmse_train).mean(),np.array(rmse_test).mean(),np.array(scores_train).mean(),np.array(scores_test).mean()])\n",
    "\n",
    "cv_df = pd.DataFrame(entries, columns=['model_name','time_mean','rmse_train','rmse_test','scores_train','scores_test'])\n"
   ]
  },
  {
   "cell_type": "code",
   "execution_count": 35,
   "metadata": {},
   "outputs": [
    {
     "data": {
      "text/html": [
       "<div>\n",
       "<style scoped>\n",
       "    .dataframe tbody tr th:only-of-type {\n",
       "        vertical-align: middle;\n",
       "    }\n",
       "\n",
       "    .dataframe tbody tr th {\n",
       "        vertical-align: top;\n",
       "    }\n",
       "\n",
       "    .dataframe thead th {\n",
       "        text-align: right;\n",
       "    }\n",
       "</style>\n",
       "<table border=\"1\" class=\"dataframe\">\n",
       "  <thead>\n",
       "    <tr style=\"text-align: right;\">\n",
       "      <th></th>\n",
       "      <th>model_name</th>\n",
       "      <th>time_mean</th>\n",
       "      <th>rmse_train</th>\n",
       "      <th>rmse_test</th>\n",
       "      <th>scores_train</th>\n",
       "      <th>scores_test</th>\n",
       "    </tr>\n",
       "  </thead>\n",
       "  <tbody>\n",
       "    <tr>\n",
       "      <th>0</th>\n",
       "      <td>DecisionTreeRegressor</td>\n",
       "      <td>18.01</td>\n",
       "      <td>64.385131</td>\n",
       "      <td>5303.730084</td>\n",
       "      <td>0.999897</td>\n",
       "      <td>0.501517</td>\n",
       "    </tr>\n",
       "    <tr>\n",
       "      <th>1</th>\n",
       "      <td>RandomForestRegressor</td>\n",
       "      <td>287.08</td>\n",
       "      <td>1361.990495</td>\n",
       "      <td>4124.701640</td>\n",
       "      <td>0.953897</td>\n",
       "      <td>0.698619</td>\n",
       "    </tr>\n",
       "    <tr>\n",
       "      <th>2</th>\n",
       "      <td>KNeighborsRegressor</td>\n",
       "      <td>1.60</td>\n",
       "      <td>3946.450247</td>\n",
       "      <td>5844.481362</td>\n",
       "      <td>0.612954</td>\n",
       "      <td>0.394958</td>\n",
       "    </tr>\n",
       "    <tr>\n",
       "      <th>3</th>\n",
       "      <td>XGBRegressor</td>\n",
       "      <td>205.47</td>\n",
       "      <td>1129.522868</td>\n",
       "      <td>4222.082831</td>\n",
       "      <td>0.968294</td>\n",
       "      <td>0.684247</td>\n",
       "    </tr>\n",
       "    <tr>\n",
       "      <th>4</th>\n",
       "      <td>SVR</td>\n",
       "      <td>701.44</td>\n",
       "      <td>6500.610592</td>\n",
       "      <td>7723.449600</td>\n",
       "      <td>-0.050166</td>\n",
       "      <td>-0.056614</td>\n",
       "    </tr>\n",
       "  </tbody>\n",
       "</table>\n",
       "</div>"
      ],
      "text/plain": [
       "              model_name  time_mean   rmse_train    rmse_test  scores_train  \\\n",
       "0  DecisionTreeRegressor      18.01    64.385131  5303.730084      0.999897   \n",
       "1  RandomForestRegressor     287.08  1361.990495  4124.701640      0.953897   \n",
       "2    KNeighborsRegressor       1.60  3946.450247  5844.481362      0.612954   \n",
       "3           XGBRegressor     205.47  1129.522868  4222.082831      0.968294   \n",
       "4                    SVR     701.44  6500.610592  7723.449600     -0.050166   \n",
       "\n",
       "   scores_test  \n",
       "0     0.501517  \n",
       "1     0.698619  \n",
       "2     0.394958  \n",
       "3     0.684247  \n",
       "4    -0.056614  "
      ]
     },
     "execution_count": 35,
     "metadata": {},
     "output_type": "execute_result"
    }
   ],
   "source": [
    "cv_df"
   ]
  },
  {
   "cell_type": "markdown",
   "metadata": {},
   "source": [
    "### Kết luận: dùng hồi quy tuyến tính là hiệu suất và rmse bé nhất"
   ]
  },
  {
   "cell_type": "code",
   "execution_count": 36,
   "metadata": {},
   "outputs": [],
   "source": [
    "import pickle\n",
    "def Save_object(obj,filename):\n",
    "     #pkl_filename = \"model_1.pkl\"  \n",
    "     with open(filename, 'wb') as file:  \n",
    "          pickle.dump(obj, file)\n",
    "     return\n",
    "pipe.fit(X, y)\n",
    "Save_object(pipe,'pipe.pkl')"
   ]
  }
 ],
 "metadata": {
  "kernelspec": {
   "display_name": "Python 3.9.2 64-bit",
   "language": "python",
   "name": "python3"
  },
  "language_info": {
   "codemirror_mode": {
    "name": "ipython",
    "version": 3
   },
   "file_extension": ".py",
   "mimetype": "text/x-python",
   "name": "python",
   "nbconvert_exporter": "python",
   "pygments_lexer": "ipython3",
   "version": "3.9.2"
  },
  "vscode": {
   "interpreter": {
    "hash": "0917cd8301acd1531e6697be57246730a0c8dcaae7b959dd47d6e5894c4c2091"
   }
  }
 },
 "nbformat": 4,
 "nbformat_minor": 5
}
