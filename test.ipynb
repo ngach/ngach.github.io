{
 "cells": [
  {
   "cell_type": "code",
   "execution_count": 43,
   "id": "11483883",
   "metadata": {},
   "outputs": [],
   "source": [
    "import numpy as np\n",
    "import pandas as pd\n",
    "import matplotlib.pyplot as plt\n",
    "import seaborn as sns\n",
    "import warnings\n",
    "warnings.filterwarnings(\"ignore\")\n",
    "from sklearn.preprocessing import RobustScaler\n",
    "from sklearn.preprocessing import PolynomialFeatures\n",
    "from sklearn.linear_model import LinearRegression\n",
    "from sklearn.pipeline import Pipeline"
   ]
  },
  {
   "cell_type": "code",
   "execution_count": 53,
   "metadata": {},
   "outputs": [],
   "source": [
    "df = pd.read_excel('House_test.xlsx')"
   ]
  },
  {
   "cell_type": "code",
   "execution_count": 54,
   "metadata": {},
   "outputs": [
    {
     "name": "stdout",
     "output_type": "stream",
     "text": [
      "Series([], Name: Dien_tich, dtype: object)\n"
     ]
    }
   ],
   "source": [
    "# biến 'Dien_tich' từ object sang dạng float\n",
    "lst=df['Dien_tich'][df['Dien_tich'].str.contains('\\d+\\.\\d{3}\\.')==True].str.split('\\.',expand=True).astype(str)\n",
    "lst['ghep']=(lst[0]+lst[1]+'.'+lst[2]).astype(float)\n",
    "df['Dien_tich'][df['Dien_tich'].str.contains('\\d+\\.\\d{3}\\.')==True]=lst['ghep']\n",
    "print(df['Dien_tich'][df['Dien_tich'].str.contains('\\d+\\.\\d{3}\\.')==True])\n",
    "df[['Dien_tich','Dien_tich_su_dung']]=df[['Dien_tich','Dien_tich_su_dung']].astype(float)\n",
    "# extract ra biến giá đơn vị triệu đồng\n",
    "df['Gia_ty']=df['Gia'].str.extract('(.+) tỷ \\d+')\n",
    "df['Gia_trieu_đong']=df['Gia_ty'].str.replace(',','.').astype(float)*1000### ko có str nó se ko replace\n",
    "df['Gia']=df['Gia'].str.replace(',','.')\n",
    "df['Don_gia_trieu']=df['Gia'].str.extract('[Đã bán|triệu] (\\d+\\.?\\d+) triệu/m²').astype(float)\n",
    "ind_gia=df.Gia_trieu_đong[df.Gia_trieu_đong.isnull()==True].index\n",
    "df.loc[ind_gia,'Gia_trieu_đong']=df.loc[ind_gia,'Don_gia_trieu']*df.loc[ind_gia,'Dien_tich']\n",
    "# biến C2 là số lầu của ngôi nhà, extract từ biến 'Cau_truc'\n",
    "df['C2']=df['Cau_truc'].str.extract('(\\d+) lầu')#.astype(int)# lúc đầu thiếu \\ nên lỗi ko đc\n",
    "df['C2'].fillna(0,inplace=True)\n",
    "df['C2']=df['C2'].astype(int)\n",
    "# Xử lý ván đề Hem_rong=0 tức là có mặt đường: tăng hệ só cho biến mặt đường roi thay  thế các giá trị mặt đường =0 bằng biến hẻm rộng\n",
    "df['Duong_mat_tien']=df['Duong_mat_tien']*1.8\n",
    "ind=df[df['Duong_mat_tien']==0].index\n",
    "df.loc[ind,'Duong_mat_tien']=df.loc[ind,'Hem_rong']\n",
    "# những giá trị không phải là số của biến 'So_phong', thay bằng median\n",
    "df['So_phong'][df['So_phong'] =='  --  ']=np.nan\n",
    "df['So_phong'][df['So_phong'] =='--']=np.nan\n",
    "df['So_phong']=df['So_phong'].astype(float)\n",
    "df['So_phong'].fillna(round(df['So_phong'][df['So_phong'].notnull()].median(),0),inplace=True)\n",
    "# tạo Dummy cho biến Quan\n",
    "df_new = pd.get_dummies(data = df, columns=['Quan'], prefix='Dum')###\n",
    "X = df_new[['So_phong', 'Dien_tich', 'Duong_mat_tien','C2','Dum_ Huyện Bình Chánh', 'Dum_ Huyện Hóc Môn', 'Dum_ Huyện Nhà Bè',\n",
    "       'Dum_ Quận 1', 'Dum_ Quận 10', 'Dum_ Quận 11', 'Dum_ Quận 12',\n",
    "       'Dum_ Quận 2', 'Dum_ Quận 3', 'Dum_ Quận 4', 'Dum_ Quận 5',\n",
    "       'Dum_ Quận 6', 'Dum_ Quận 7', 'Dum_ Quận 8',\n",
    "       'Dum_ Quận Bình Thạnh', 'Dum_ Quận Bình Tân', 'Dum_ Quận Gò Vấp',\n",
    "       'Dum_ Quận Phú Nhuận', 'Dum_ Quận Tân Bình']]\n",
    "y = df['Gia_trieu_đong']\n"
   ]
  },
  {
   "cell_type": "code",
   "execution_count": 55,
   "metadata": {},
   "outputs": [],
   "source": [
    "import pickle\n",
    "def Load_object(filename): \n",
    "     with open(filename, 'rb') as file:  \n",
    "          obj=pickle.load(file)\n",
    "     return obj \n",
    "model=Load_object('pipe.pkl')"
   ]
  },
  {
   "cell_type": "code",
   "execution_count": 56,
   "metadata": {},
   "outputs": [
    {
     "name": "stdout",
     "output_type": "stream",
     "text": [
      "R-squared: 0.863461893531465\n",
      "rmse 3878.624358312651\n"
     ]
    }
   ],
   "source": [
    "model.fit(X, y)\n",
    "yhat= model.predict(X)\n",
    "print('R-squared:', model.score(X,y))\n",
    "a=np.sqrt(((yhat-y) ** 2).mean())\n",
    "print('rmse',a)"
   ]
  }
 ],
 "metadata": {
  "interpreter": {
   "hash": "3cfbea05d7b45c890aea4cd480b78a539a5447dbb83e1f9fb71f3bb3d0bcd8be"
  },
  "kernelspec": {
   "display_name": "Python 3.9.2 64-bit",
   "name": "python3"
  },
  "language_info": {
   "codemirror_mode": {
    "name": "ipython",
    "version": 3
   },
   "file_extension": ".py",
   "mimetype": "text/x-python",
   "name": "python",
   "nbconvert_exporter": "python",
   "pygments_lexer": "ipython3",
   "version": "3.9.2"
  }
 },
 "nbformat": 4,
 "nbformat_minor": 5
}
